{
 "cells": [
  {
   "cell_type": "code",
   "execution_count": 1,
   "id": "10804906-2056-4a6a-ae86-ac73770948f2",
   "metadata": {},
   "outputs": [],
   "source": [
    "import numpy as np # linear algebra\n",
    "import pandas as pd # data processing, CSV file I/O (e.g. pd.read_csv)\n",
    "import matplotlib.pyplot as plt\n",
    "import seaborn as sns"
   ]
  },
  {
   "cell_type": "code",
   "execution_count": 2,
   "id": "0c4ddf1d-3cdd-4416-8d13-4f053b402b10",
   "metadata": {},
   "outputs": [],
   "source": [
    "credit_card = pd.read_csv('creditcard.csv')"
   ]
  },
  {
   "cell_type": "code",
   "execution_count": 3,
   "id": "2e614171-323b-43d7-869b-6b2aa18c7084",
   "metadata": {},
   "outputs": [
    {
     "name": "stdout",
     "output_type": "stream",
     "text": [
      "<class 'pandas.core.frame.DataFrame'>\n",
      "RangeIndex: 284807 entries, 0 to 284806\n",
      "Data columns (total 31 columns):\n",
      " #   Column  Non-Null Count   Dtype  \n",
      "---  ------  --------------   -----  \n",
      " 0   Time    284807 non-null  float64\n",
      " 1   V1      284807 non-null  float64\n",
      " 2   V2      284807 non-null  float64\n",
      " 3   V3      284807 non-null  float64\n",
      " 4   V4      284807 non-null  float64\n",
      " 5   V5      284807 non-null  float64\n",
      " 6   V6      284807 non-null  float64\n",
      " 7   V7      284807 non-null  float64\n",
      " 8   V8      284807 non-null  float64\n",
      " 9   V9      284807 non-null  float64\n",
      " 10  V10     284807 non-null  float64\n",
      " 11  V11     284807 non-null  float64\n",
      " 12  V12     284807 non-null  float64\n",
      " 13  V13     284807 non-null  float64\n",
      " 14  V14     284807 non-null  float64\n",
      " 15  V15     284807 non-null  float64\n",
      " 16  V16     284807 non-null  float64\n",
      " 17  V17     284807 non-null  float64\n",
      " 18  V18     284807 non-null  float64\n",
      " 19  V19     284807 non-null  float64\n",
      " 20  V20     284807 non-null  float64\n",
      " 21  V21     284807 non-null  float64\n",
      " 22  V22     284807 non-null  float64\n",
      " 23  V23     284807 non-null  float64\n",
      " 24  V24     284807 non-null  float64\n",
      " 25  V25     284807 non-null  float64\n",
      " 26  V26     284807 non-null  float64\n",
      " 27  V27     284807 non-null  float64\n",
      " 28  V28     284807 non-null  float64\n",
      " 29  Amount  284807 non-null  float64\n",
      " 30  Class   284807 non-null  int64  \n",
      "dtypes: float64(30), int64(1)\n",
      "memory usage: 67.4 MB\n"
     ]
    }
   ],
   "source": [
    "credit_card.info()"
   ]
  },
  {
   "cell_type": "code",
   "execution_count": 4,
   "id": "409c2923-9e5f-4484-97a6-740c4fd675ac",
   "metadata": {},
   "outputs": [
    {
     "data": {
      "text/plain": [
       "Time      0\n",
       "V1        0\n",
       "V2        0\n",
       "V3        0\n",
       "V4        0\n",
       "V5        0\n",
       "V6        0\n",
       "V7        0\n",
       "V8        0\n",
       "V9        0\n",
       "V10       0\n",
       "V11       0\n",
       "V12       0\n",
       "V13       0\n",
       "V14       0\n",
       "V15       0\n",
       "V16       0\n",
       "V17       0\n",
       "V18       0\n",
       "V19       0\n",
       "V20       0\n",
       "V21       0\n",
       "V22       0\n",
       "V23       0\n",
       "V24       0\n",
       "V25       0\n",
       "V26       0\n",
       "V27       0\n",
       "V28       0\n",
       "Amount    0\n",
       "Class     0\n",
       "dtype: int64"
      ]
     },
     "execution_count": 4,
     "metadata": {},
     "output_type": "execute_result"
    }
   ],
   "source": [
    "credit_card.isnull().sum()"
   ]
  },
  {
   "cell_type": "code",
   "execution_count": 5,
   "id": "722c0da9-a7e2-4327-943b-eab556672fec",
   "metadata": {},
   "outputs": [
    {
     "data": {
      "text/html": [
       "<div>\n",
       "<style scoped>\n",
       "    .dataframe tbody tr th:only-of-type {\n",
       "        vertical-align: middle;\n",
       "    }\n",
       "\n",
       "    .dataframe tbody tr th {\n",
       "        vertical-align: top;\n",
       "    }\n",
       "\n",
       "    .dataframe thead th {\n",
       "        text-align: right;\n",
       "    }\n",
       "</style>\n",
       "<table border=\"1\" class=\"dataframe\">\n",
       "  <thead>\n",
       "    <tr style=\"text-align: right;\">\n",
       "      <th></th>\n",
       "      <th>Time</th>\n",
       "      <th>V1</th>\n",
       "      <th>V2</th>\n",
       "      <th>V3</th>\n",
       "      <th>V4</th>\n",
       "      <th>V5</th>\n",
       "      <th>V6</th>\n",
       "      <th>V7</th>\n",
       "      <th>V8</th>\n",
       "      <th>V9</th>\n",
       "      <th>...</th>\n",
       "      <th>V21</th>\n",
       "      <th>V22</th>\n",
       "      <th>V23</th>\n",
       "      <th>V24</th>\n",
       "      <th>V25</th>\n",
       "      <th>V26</th>\n",
       "      <th>V27</th>\n",
       "      <th>V28</th>\n",
       "      <th>Amount</th>\n",
       "      <th>Class</th>\n",
       "    </tr>\n",
       "  </thead>\n",
       "  <tbody>\n",
       "    <tr>\n",
       "      <th>count</th>\n",
       "      <td>284807.000000</td>\n",
       "      <td>2.848070e+05</td>\n",
       "      <td>2.848070e+05</td>\n",
       "      <td>2.848070e+05</td>\n",
       "      <td>2.848070e+05</td>\n",
       "      <td>2.848070e+05</td>\n",
       "      <td>2.848070e+05</td>\n",
       "      <td>2.848070e+05</td>\n",
       "      <td>2.848070e+05</td>\n",
       "      <td>2.848070e+05</td>\n",
       "      <td>...</td>\n",
       "      <td>2.848070e+05</td>\n",
       "      <td>2.848070e+05</td>\n",
       "      <td>2.848070e+05</td>\n",
       "      <td>2.848070e+05</td>\n",
       "      <td>2.848070e+05</td>\n",
       "      <td>2.848070e+05</td>\n",
       "      <td>2.848070e+05</td>\n",
       "      <td>2.848070e+05</td>\n",
       "      <td>284807.000000</td>\n",
       "      <td>284807.000000</td>\n",
       "    </tr>\n",
       "    <tr>\n",
       "      <th>mean</th>\n",
       "      <td>94813.859575</td>\n",
       "      <td>1.168375e-15</td>\n",
       "      <td>3.416908e-16</td>\n",
       "      <td>-1.379537e-15</td>\n",
       "      <td>2.074095e-15</td>\n",
       "      <td>9.604066e-16</td>\n",
       "      <td>1.487313e-15</td>\n",
       "      <td>-5.556467e-16</td>\n",
       "      <td>1.213481e-16</td>\n",
       "      <td>-2.406331e-15</td>\n",
       "      <td>...</td>\n",
       "      <td>1.654067e-16</td>\n",
       "      <td>-3.568593e-16</td>\n",
       "      <td>2.578648e-16</td>\n",
       "      <td>4.473266e-15</td>\n",
       "      <td>5.340915e-16</td>\n",
       "      <td>1.683437e-15</td>\n",
       "      <td>-3.660091e-16</td>\n",
       "      <td>-1.227390e-16</td>\n",
       "      <td>88.349619</td>\n",
       "      <td>0.001727</td>\n",
       "    </tr>\n",
       "    <tr>\n",
       "      <th>std</th>\n",
       "      <td>47488.145955</td>\n",
       "      <td>1.958696e+00</td>\n",
       "      <td>1.651309e+00</td>\n",
       "      <td>1.516255e+00</td>\n",
       "      <td>1.415869e+00</td>\n",
       "      <td>1.380247e+00</td>\n",
       "      <td>1.332271e+00</td>\n",
       "      <td>1.237094e+00</td>\n",
       "      <td>1.194353e+00</td>\n",
       "      <td>1.098632e+00</td>\n",
       "      <td>...</td>\n",
       "      <td>7.345240e-01</td>\n",
       "      <td>7.257016e-01</td>\n",
       "      <td>6.244603e-01</td>\n",
       "      <td>6.056471e-01</td>\n",
       "      <td>5.212781e-01</td>\n",
       "      <td>4.822270e-01</td>\n",
       "      <td>4.036325e-01</td>\n",
       "      <td>3.300833e-01</td>\n",
       "      <td>250.120109</td>\n",
       "      <td>0.041527</td>\n",
       "    </tr>\n",
       "    <tr>\n",
       "      <th>min</th>\n",
       "      <td>0.000000</td>\n",
       "      <td>-5.640751e+01</td>\n",
       "      <td>-7.271573e+01</td>\n",
       "      <td>-4.832559e+01</td>\n",
       "      <td>-5.683171e+00</td>\n",
       "      <td>-1.137433e+02</td>\n",
       "      <td>-2.616051e+01</td>\n",
       "      <td>-4.355724e+01</td>\n",
       "      <td>-7.321672e+01</td>\n",
       "      <td>-1.343407e+01</td>\n",
       "      <td>...</td>\n",
       "      <td>-3.483038e+01</td>\n",
       "      <td>-1.093314e+01</td>\n",
       "      <td>-4.480774e+01</td>\n",
       "      <td>-2.836627e+00</td>\n",
       "      <td>-1.029540e+01</td>\n",
       "      <td>-2.604551e+00</td>\n",
       "      <td>-2.256568e+01</td>\n",
       "      <td>-1.543008e+01</td>\n",
       "      <td>0.000000</td>\n",
       "      <td>0.000000</td>\n",
       "    </tr>\n",
       "    <tr>\n",
       "      <th>25%</th>\n",
       "      <td>54201.500000</td>\n",
       "      <td>-9.203734e-01</td>\n",
       "      <td>-5.985499e-01</td>\n",
       "      <td>-8.903648e-01</td>\n",
       "      <td>-8.486401e-01</td>\n",
       "      <td>-6.915971e-01</td>\n",
       "      <td>-7.682956e-01</td>\n",
       "      <td>-5.540759e-01</td>\n",
       "      <td>-2.086297e-01</td>\n",
       "      <td>-6.430976e-01</td>\n",
       "      <td>...</td>\n",
       "      <td>-2.283949e-01</td>\n",
       "      <td>-5.423504e-01</td>\n",
       "      <td>-1.618463e-01</td>\n",
       "      <td>-3.545861e-01</td>\n",
       "      <td>-3.171451e-01</td>\n",
       "      <td>-3.269839e-01</td>\n",
       "      <td>-7.083953e-02</td>\n",
       "      <td>-5.295979e-02</td>\n",
       "      <td>5.600000</td>\n",
       "      <td>0.000000</td>\n",
       "    </tr>\n",
       "    <tr>\n",
       "      <th>50%</th>\n",
       "      <td>84692.000000</td>\n",
       "      <td>1.810880e-02</td>\n",
       "      <td>6.548556e-02</td>\n",
       "      <td>1.798463e-01</td>\n",
       "      <td>-1.984653e-02</td>\n",
       "      <td>-5.433583e-02</td>\n",
       "      <td>-2.741871e-01</td>\n",
       "      <td>4.010308e-02</td>\n",
       "      <td>2.235804e-02</td>\n",
       "      <td>-5.142873e-02</td>\n",
       "      <td>...</td>\n",
       "      <td>-2.945017e-02</td>\n",
       "      <td>6.781943e-03</td>\n",
       "      <td>-1.119293e-02</td>\n",
       "      <td>4.097606e-02</td>\n",
       "      <td>1.659350e-02</td>\n",
       "      <td>-5.213911e-02</td>\n",
       "      <td>1.342146e-03</td>\n",
       "      <td>1.124383e-02</td>\n",
       "      <td>22.000000</td>\n",
       "      <td>0.000000</td>\n",
       "    </tr>\n",
       "    <tr>\n",
       "      <th>75%</th>\n",
       "      <td>139320.500000</td>\n",
       "      <td>1.315642e+00</td>\n",
       "      <td>8.037239e-01</td>\n",
       "      <td>1.027196e+00</td>\n",
       "      <td>7.433413e-01</td>\n",
       "      <td>6.119264e-01</td>\n",
       "      <td>3.985649e-01</td>\n",
       "      <td>5.704361e-01</td>\n",
       "      <td>3.273459e-01</td>\n",
       "      <td>5.971390e-01</td>\n",
       "      <td>...</td>\n",
       "      <td>1.863772e-01</td>\n",
       "      <td>5.285536e-01</td>\n",
       "      <td>1.476421e-01</td>\n",
       "      <td>4.395266e-01</td>\n",
       "      <td>3.507156e-01</td>\n",
       "      <td>2.409522e-01</td>\n",
       "      <td>9.104512e-02</td>\n",
       "      <td>7.827995e-02</td>\n",
       "      <td>77.165000</td>\n",
       "      <td>0.000000</td>\n",
       "    </tr>\n",
       "    <tr>\n",
       "      <th>max</th>\n",
       "      <td>172792.000000</td>\n",
       "      <td>2.454930e+00</td>\n",
       "      <td>2.205773e+01</td>\n",
       "      <td>9.382558e+00</td>\n",
       "      <td>1.687534e+01</td>\n",
       "      <td>3.480167e+01</td>\n",
       "      <td>7.330163e+01</td>\n",
       "      <td>1.205895e+02</td>\n",
       "      <td>2.000721e+01</td>\n",
       "      <td>1.559499e+01</td>\n",
       "      <td>...</td>\n",
       "      <td>2.720284e+01</td>\n",
       "      <td>1.050309e+01</td>\n",
       "      <td>2.252841e+01</td>\n",
       "      <td>4.584549e+00</td>\n",
       "      <td>7.519589e+00</td>\n",
       "      <td>3.517346e+00</td>\n",
       "      <td>3.161220e+01</td>\n",
       "      <td>3.384781e+01</td>\n",
       "      <td>25691.160000</td>\n",
       "      <td>1.000000</td>\n",
       "    </tr>\n",
       "  </tbody>\n",
       "</table>\n",
       "<p>8 rows × 31 columns</p>\n",
       "</div>"
      ],
      "text/plain": [
       "                Time            V1            V2            V3            V4  \\\n",
       "count  284807.000000  2.848070e+05  2.848070e+05  2.848070e+05  2.848070e+05   \n",
       "mean    94813.859575  1.168375e-15  3.416908e-16 -1.379537e-15  2.074095e-15   \n",
       "std     47488.145955  1.958696e+00  1.651309e+00  1.516255e+00  1.415869e+00   \n",
       "min         0.000000 -5.640751e+01 -7.271573e+01 -4.832559e+01 -5.683171e+00   \n",
       "25%     54201.500000 -9.203734e-01 -5.985499e-01 -8.903648e-01 -8.486401e-01   \n",
       "50%     84692.000000  1.810880e-02  6.548556e-02  1.798463e-01 -1.984653e-02   \n",
       "75%    139320.500000  1.315642e+00  8.037239e-01  1.027196e+00  7.433413e-01   \n",
       "max    172792.000000  2.454930e+00  2.205773e+01  9.382558e+00  1.687534e+01   \n",
       "\n",
       "                 V5            V6            V7            V8            V9  \\\n",
       "count  2.848070e+05  2.848070e+05  2.848070e+05  2.848070e+05  2.848070e+05   \n",
       "mean   9.604066e-16  1.487313e-15 -5.556467e-16  1.213481e-16 -2.406331e-15   \n",
       "std    1.380247e+00  1.332271e+00  1.237094e+00  1.194353e+00  1.098632e+00   \n",
       "min   -1.137433e+02 -2.616051e+01 -4.355724e+01 -7.321672e+01 -1.343407e+01   \n",
       "25%   -6.915971e-01 -7.682956e-01 -5.540759e-01 -2.086297e-01 -6.430976e-01   \n",
       "50%   -5.433583e-02 -2.741871e-01  4.010308e-02  2.235804e-02 -5.142873e-02   \n",
       "75%    6.119264e-01  3.985649e-01  5.704361e-01  3.273459e-01  5.971390e-01   \n",
       "max    3.480167e+01  7.330163e+01  1.205895e+02  2.000721e+01  1.559499e+01   \n",
       "\n",
       "       ...           V21           V22           V23           V24  \\\n",
       "count  ...  2.848070e+05  2.848070e+05  2.848070e+05  2.848070e+05   \n",
       "mean   ...  1.654067e-16 -3.568593e-16  2.578648e-16  4.473266e-15   \n",
       "std    ...  7.345240e-01  7.257016e-01  6.244603e-01  6.056471e-01   \n",
       "min    ... -3.483038e+01 -1.093314e+01 -4.480774e+01 -2.836627e+00   \n",
       "25%    ... -2.283949e-01 -5.423504e-01 -1.618463e-01 -3.545861e-01   \n",
       "50%    ... -2.945017e-02  6.781943e-03 -1.119293e-02  4.097606e-02   \n",
       "75%    ...  1.863772e-01  5.285536e-01  1.476421e-01  4.395266e-01   \n",
       "max    ...  2.720284e+01  1.050309e+01  2.252841e+01  4.584549e+00   \n",
       "\n",
       "                V25           V26           V27           V28         Amount  \\\n",
       "count  2.848070e+05  2.848070e+05  2.848070e+05  2.848070e+05  284807.000000   \n",
       "mean   5.340915e-16  1.683437e-15 -3.660091e-16 -1.227390e-16      88.349619   \n",
       "std    5.212781e-01  4.822270e-01  4.036325e-01  3.300833e-01     250.120109   \n",
       "min   -1.029540e+01 -2.604551e+00 -2.256568e+01 -1.543008e+01       0.000000   \n",
       "25%   -3.171451e-01 -3.269839e-01 -7.083953e-02 -5.295979e-02       5.600000   \n",
       "50%    1.659350e-02 -5.213911e-02  1.342146e-03  1.124383e-02      22.000000   \n",
       "75%    3.507156e-01  2.409522e-01  9.104512e-02  7.827995e-02      77.165000   \n",
       "max    7.519589e+00  3.517346e+00  3.161220e+01  3.384781e+01   25691.160000   \n",
       "\n",
       "               Class  \n",
       "count  284807.000000  \n",
       "mean        0.001727  \n",
       "std         0.041527  \n",
       "min         0.000000  \n",
       "25%         0.000000  \n",
       "50%         0.000000  \n",
       "75%         0.000000  \n",
       "max         1.000000  \n",
       "\n",
       "[8 rows x 31 columns]"
      ]
     },
     "execution_count": 5,
     "metadata": {},
     "output_type": "execute_result"
    }
   ],
   "source": [
    "credit_card.describe()"
   ]
  },
  {
   "cell_type": "code",
   "execution_count": 6,
   "id": "ad780958-cad9-4406-b0a1-b98791b7a1f2",
   "metadata": {},
   "outputs": [],
   "source": [
    "from sklearn.preprocessing import RobustScaler\n",
    "rs = RobustScaler()\n",
    "credit_card['scaled_amount'] = rs.fit_transform(credit_card['Amount'].values.reshape(-1,1))\n",
    "credit_card['scaled_time'] = rs.fit_transform(credit_card['Time'].values.reshape(-1,1))\n",
    "credit_card.drop(['Time', 'Amount'], axis = 1, inplace = True)"
   ]
  },
  {
   "cell_type": "code",
   "execution_count": 7,
   "id": "25aa1685-11c9-41c1-bb9c-6570189b3aaa",
   "metadata": {},
   "outputs": [
    {
     "data": {
      "text/html": [
       "<div>\n",
       "<style scoped>\n",
       "    .dataframe tbody tr th:only-of-type {\n",
       "        vertical-align: middle;\n",
       "    }\n",
       "\n",
       "    .dataframe tbody tr th {\n",
       "        vertical-align: top;\n",
       "    }\n",
       "\n",
       "    .dataframe thead th {\n",
       "        text-align: right;\n",
       "    }\n",
       "</style>\n",
       "<table border=\"1\" class=\"dataframe\">\n",
       "  <thead>\n",
       "    <tr style=\"text-align: right;\">\n",
       "      <th></th>\n",
       "      <th>V1</th>\n",
       "      <th>V2</th>\n",
       "      <th>V3</th>\n",
       "      <th>V4</th>\n",
       "      <th>V5</th>\n",
       "      <th>V6</th>\n",
       "      <th>V7</th>\n",
       "      <th>V8</th>\n",
       "      <th>V9</th>\n",
       "      <th>V10</th>\n",
       "      <th>...</th>\n",
       "      <th>V22</th>\n",
       "      <th>V23</th>\n",
       "      <th>V24</th>\n",
       "      <th>V25</th>\n",
       "      <th>V26</th>\n",
       "      <th>V27</th>\n",
       "      <th>V28</th>\n",
       "      <th>Class</th>\n",
       "      <th>scaled_amount</th>\n",
       "      <th>scaled_time</th>\n",
       "    </tr>\n",
       "  </thead>\n",
       "  <tbody>\n",
       "    <tr>\n",
       "      <th>count</th>\n",
       "      <td>2.848070e+05</td>\n",
       "      <td>2.848070e+05</td>\n",
       "      <td>2.848070e+05</td>\n",
       "      <td>2.848070e+05</td>\n",
       "      <td>2.848070e+05</td>\n",
       "      <td>2.848070e+05</td>\n",
       "      <td>2.848070e+05</td>\n",
       "      <td>2.848070e+05</td>\n",
       "      <td>2.848070e+05</td>\n",
       "      <td>2.848070e+05</td>\n",
       "      <td>...</td>\n",
       "      <td>2.848070e+05</td>\n",
       "      <td>2.848070e+05</td>\n",
       "      <td>2.848070e+05</td>\n",
       "      <td>2.848070e+05</td>\n",
       "      <td>2.848070e+05</td>\n",
       "      <td>2.848070e+05</td>\n",
       "      <td>2.848070e+05</td>\n",
       "      <td>284807.000000</td>\n",
       "      <td>284807.000000</td>\n",
       "      <td>284807.000000</td>\n",
       "    </tr>\n",
       "    <tr>\n",
       "      <th>mean</th>\n",
       "      <td>1.168375e-15</td>\n",
       "      <td>3.416908e-16</td>\n",
       "      <td>-1.379537e-15</td>\n",
       "      <td>2.074095e-15</td>\n",
       "      <td>9.604066e-16</td>\n",
       "      <td>1.487313e-15</td>\n",
       "      <td>-5.556467e-16</td>\n",
       "      <td>1.213481e-16</td>\n",
       "      <td>-2.406331e-15</td>\n",
       "      <td>2.239053e-15</td>\n",
       "      <td>...</td>\n",
       "      <td>-3.568593e-16</td>\n",
       "      <td>2.578648e-16</td>\n",
       "      <td>4.473266e-15</td>\n",
       "      <td>5.340915e-16</td>\n",
       "      <td>1.683437e-15</td>\n",
       "      <td>-3.660091e-16</td>\n",
       "      <td>-1.227390e-16</td>\n",
       "      <td>0.001727</td>\n",
       "      <td>0.927124</td>\n",
       "      <td>0.118914</td>\n",
       "    </tr>\n",
       "    <tr>\n",
       "      <th>std</th>\n",
       "      <td>1.958696e+00</td>\n",
       "      <td>1.651309e+00</td>\n",
       "      <td>1.516255e+00</td>\n",
       "      <td>1.415869e+00</td>\n",
       "      <td>1.380247e+00</td>\n",
       "      <td>1.332271e+00</td>\n",
       "      <td>1.237094e+00</td>\n",
       "      <td>1.194353e+00</td>\n",
       "      <td>1.098632e+00</td>\n",
       "      <td>1.088850e+00</td>\n",
       "      <td>...</td>\n",
       "      <td>7.257016e-01</td>\n",
       "      <td>6.244603e-01</td>\n",
       "      <td>6.056471e-01</td>\n",
       "      <td>5.212781e-01</td>\n",
       "      <td>4.822270e-01</td>\n",
       "      <td>4.036325e-01</td>\n",
       "      <td>3.300833e-01</td>\n",
       "      <td>0.041527</td>\n",
       "      <td>3.495006</td>\n",
       "      <td>0.557903</td>\n",
       "    </tr>\n",
       "    <tr>\n",
       "      <th>min</th>\n",
       "      <td>-5.640751e+01</td>\n",
       "      <td>-7.271573e+01</td>\n",
       "      <td>-4.832559e+01</td>\n",
       "      <td>-5.683171e+00</td>\n",
       "      <td>-1.137433e+02</td>\n",
       "      <td>-2.616051e+01</td>\n",
       "      <td>-4.355724e+01</td>\n",
       "      <td>-7.321672e+01</td>\n",
       "      <td>-1.343407e+01</td>\n",
       "      <td>-2.458826e+01</td>\n",
       "      <td>...</td>\n",
       "      <td>-1.093314e+01</td>\n",
       "      <td>-4.480774e+01</td>\n",
       "      <td>-2.836627e+00</td>\n",
       "      <td>-1.029540e+01</td>\n",
       "      <td>-2.604551e+00</td>\n",
       "      <td>-2.256568e+01</td>\n",
       "      <td>-1.543008e+01</td>\n",
       "      <td>0.000000</td>\n",
       "      <td>-0.307413</td>\n",
       "      <td>-0.994983</td>\n",
       "    </tr>\n",
       "    <tr>\n",
       "      <th>25%</th>\n",
       "      <td>-9.203734e-01</td>\n",
       "      <td>-5.985499e-01</td>\n",
       "      <td>-8.903648e-01</td>\n",
       "      <td>-8.486401e-01</td>\n",
       "      <td>-6.915971e-01</td>\n",
       "      <td>-7.682956e-01</td>\n",
       "      <td>-5.540759e-01</td>\n",
       "      <td>-2.086297e-01</td>\n",
       "      <td>-6.430976e-01</td>\n",
       "      <td>-5.354257e-01</td>\n",
       "      <td>...</td>\n",
       "      <td>-5.423504e-01</td>\n",
       "      <td>-1.618463e-01</td>\n",
       "      <td>-3.545861e-01</td>\n",
       "      <td>-3.171451e-01</td>\n",
       "      <td>-3.269839e-01</td>\n",
       "      <td>-7.083953e-02</td>\n",
       "      <td>-5.295979e-02</td>\n",
       "      <td>0.000000</td>\n",
       "      <td>-0.229162</td>\n",
       "      <td>-0.358210</td>\n",
       "    </tr>\n",
       "    <tr>\n",
       "      <th>50%</th>\n",
       "      <td>1.810880e-02</td>\n",
       "      <td>6.548556e-02</td>\n",
       "      <td>1.798463e-01</td>\n",
       "      <td>-1.984653e-02</td>\n",
       "      <td>-5.433583e-02</td>\n",
       "      <td>-2.741871e-01</td>\n",
       "      <td>4.010308e-02</td>\n",
       "      <td>2.235804e-02</td>\n",
       "      <td>-5.142873e-02</td>\n",
       "      <td>-9.291738e-02</td>\n",
       "      <td>...</td>\n",
       "      <td>6.781943e-03</td>\n",
       "      <td>-1.119293e-02</td>\n",
       "      <td>4.097606e-02</td>\n",
       "      <td>1.659350e-02</td>\n",
       "      <td>-5.213911e-02</td>\n",
       "      <td>1.342146e-03</td>\n",
       "      <td>1.124383e-02</td>\n",
       "      <td>0.000000</td>\n",
       "      <td>0.000000</td>\n",
       "      <td>0.000000</td>\n",
       "    </tr>\n",
       "    <tr>\n",
       "      <th>75%</th>\n",
       "      <td>1.315642e+00</td>\n",
       "      <td>8.037239e-01</td>\n",
       "      <td>1.027196e+00</td>\n",
       "      <td>7.433413e-01</td>\n",
       "      <td>6.119264e-01</td>\n",
       "      <td>3.985649e-01</td>\n",
       "      <td>5.704361e-01</td>\n",
       "      <td>3.273459e-01</td>\n",
       "      <td>5.971390e-01</td>\n",
       "      <td>4.539234e-01</td>\n",
       "      <td>...</td>\n",
       "      <td>5.285536e-01</td>\n",
       "      <td>1.476421e-01</td>\n",
       "      <td>4.395266e-01</td>\n",
       "      <td>3.507156e-01</td>\n",
       "      <td>2.409522e-01</td>\n",
       "      <td>9.104512e-02</td>\n",
       "      <td>7.827995e-02</td>\n",
       "      <td>0.000000</td>\n",
       "      <td>0.770838</td>\n",
       "      <td>0.641790</td>\n",
       "    </tr>\n",
       "    <tr>\n",
       "      <th>max</th>\n",
       "      <td>2.454930e+00</td>\n",
       "      <td>2.205773e+01</td>\n",
       "      <td>9.382558e+00</td>\n",
       "      <td>1.687534e+01</td>\n",
       "      <td>3.480167e+01</td>\n",
       "      <td>7.330163e+01</td>\n",
       "      <td>1.205895e+02</td>\n",
       "      <td>2.000721e+01</td>\n",
       "      <td>1.559499e+01</td>\n",
       "      <td>2.374514e+01</td>\n",
       "      <td>...</td>\n",
       "      <td>1.050309e+01</td>\n",
       "      <td>2.252841e+01</td>\n",
       "      <td>4.584549e+00</td>\n",
       "      <td>7.519589e+00</td>\n",
       "      <td>3.517346e+00</td>\n",
       "      <td>3.161220e+01</td>\n",
       "      <td>3.384781e+01</td>\n",
       "      <td>1.000000</td>\n",
       "      <td>358.683155</td>\n",
       "      <td>1.035022</td>\n",
       "    </tr>\n",
       "  </tbody>\n",
       "</table>\n",
       "<p>8 rows × 31 columns</p>\n",
       "</div>"
      ],
      "text/plain": [
       "                 V1            V2            V3            V4            V5  \\\n",
       "count  2.848070e+05  2.848070e+05  2.848070e+05  2.848070e+05  2.848070e+05   \n",
       "mean   1.168375e-15  3.416908e-16 -1.379537e-15  2.074095e-15  9.604066e-16   \n",
       "std    1.958696e+00  1.651309e+00  1.516255e+00  1.415869e+00  1.380247e+00   \n",
       "min   -5.640751e+01 -7.271573e+01 -4.832559e+01 -5.683171e+00 -1.137433e+02   \n",
       "25%   -9.203734e-01 -5.985499e-01 -8.903648e-01 -8.486401e-01 -6.915971e-01   \n",
       "50%    1.810880e-02  6.548556e-02  1.798463e-01 -1.984653e-02 -5.433583e-02   \n",
       "75%    1.315642e+00  8.037239e-01  1.027196e+00  7.433413e-01  6.119264e-01   \n",
       "max    2.454930e+00  2.205773e+01  9.382558e+00  1.687534e+01  3.480167e+01   \n",
       "\n",
       "                 V6            V7            V8            V9           V10  \\\n",
       "count  2.848070e+05  2.848070e+05  2.848070e+05  2.848070e+05  2.848070e+05   \n",
       "mean   1.487313e-15 -5.556467e-16  1.213481e-16 -2.406331e-15  2.239053e-15   \n",
       "std    1.332271e+00  1.237094e+00  1.194353e+00  1.098632e+00  1.088850e+00   \n",
       "min   -2.616051e+01 -4.355724e+01 -7.321672e+01 -1.343407e+01 -2.458826e+01   \n",
       "25%   -7.682956e-01 -5.540759e-01 -2.086297e-01 -6.430976e-01 -5.354257e-01   \n",
       "50%   -2.741871e-01  4.010308e-02  2.235804e-02 -5.142873e-02 -9.291738e-02   \n",
       "75%    3.985649e-01  5.704361e-01  3.273459e-01  5.971390e-01  4.539234e-01   \n",
       "max    7.330163e+01  1.205895e+02  2.000721e+01  1.559499e+01  2.374514e+01   \n",
       "\n",
       "       ...           V22           V23           V24           V25  \\\n",
       "count  ...  2.848070e+05  2.848070e+05  2.848070e+05  2.848070e+05   \n",
       "mean   ... -3.568593e-16  2.578648e-16  4.473266e-15  5.340915e-16   \n",
       "std    ...  7.257016e-01  6.244603e-01  6.056471e-01  5.212781e-01   \n",
       "min    ... -1.093314e+01 -4.480774e+01 -2.836627e+00 -1.029540e+01   \n",
       "25%    ... -5.423504e-01 -1.618463e-01 -3.545861e-01 -3.171451e-01   \n",
       "50%    ...  6.781943e-03 -1.119293e-02  4.097606e-02  1.659350e-02   \n",
       "75%    ...  5.285536e-01  1.476421e-01  4.395266e-01  3.507156e-01   \n",
       "max    ...  1.050309e+01  2.252841e+01  4.584549e+00  7.519589e+00   \n",
       "\n",
       "                V26           V27           V28          Class  scaled_amount  \\\n",
       "count  2.848070e+05  2.848070e+05  2.848070e+05  284807.000000  284807.000000   \n",
       "mean   1.683437e-15 -3.660091e-16 -1.227390e-16       0.001727       0.927124   \n",
       "std    4.822270e-01  4.036325e-01  3.300833e-01       0.041527       3.495006   \n",
       "min   -2.604551e+00 -2.256568e+01 -1.543008e+01       0.000000      -0.307413   \n",
       "25%   -3.269839e-01 -7.083953e-02 -5.295979e-02       0.000000      -0.229162   \n",
       "50%   -5.213911e-02  1.342146e-03  1.124383e-02       0.000000       0.000000   \n",
       "75%    2.409522e-01  9.104512e-02  7.827995e-02       0.000000       0.770838   \n",
       "max    3.517346e+00  3.161220e+01  3.384781e+01       1.000000     358.683155   \n",
       "\n",
       "         scaled_time  \n",
       "count  284807.000000  \n",
       "mean        0.118914  \n",
       "std         0.557903  \n",
       "min        -0.994983  \n",
       "25%        -0.358210  \n",
       "50%         0.000000  \n",
       "75%         0.641790  \n",
       "max         1.035022  \n",
       "\n",
       "[8 rows x 31 columns]"
      ]
     },
     "execution_count": 7,
     "metadata": {},
     "output_type": "execute_result"
    }
   ],
   "source": [
    "credit_card.describe()"
   ]
  },
  {
   "cell_type": "code",
   "execution_count": 8,
   "id": "0738498a-6a0e-44c6-945c-bf5667b7f9ef",
   "metadata": {},
   "outputs": [
    {
     "data": {
      "text/plain": [
       "Text(0.5, 1.0, 'Correlation With Class')"
      ]
     },
     "execution_count": 8,
     "metadata": {},
     "output_type": "execute_result"
    },
    {
     "data": {
      "image/png": "[encoded data removed]",
      "text/plain": [
       "<Figure size 1008x432 with 1 Axes>"
      ]
     },
     "metadata": {
      "needs_background": "light"
     },
     "output_type": "display_data"
    }
   ],
   "source": [
    "plt.figure(figsize = (14,6))\n",
    "credit_card.corr()['Class'].sort_values().plot(kind = 'bar')\n",
    "plt.title('Correlation With Class')"
   ]
  },
  {
   "cell_type": "code",
   "execution_count": 9,
   "id": "2f12c5a6-273d-44d6-999d-29c280c96d8e",
   "metadata": {},
   "outputs": [],
   "source": [
    "from sklearn.model_selection import train_test_split\n",
    "from sklearn.linear_model import LogisticRegression\n",
    "from sklearn.ensemble import RandomForestClassifier\n",
    "from sklearn.neighbors import KNeighborsClassifier\n",
    "from imblearn.over_sampling import SMOTE\n",
    "from imblearn.under_sampling import NearMiss\n",
    "from sklearn.metrics import confusion_matrix, accuracy_score, classification_report, recall_score\n",
    "import keras\n",
    "from keras.models import Sequential\n",
    "from keras.layers import Dropout\n",
    "from keras.layers import Dense"
   ]
  },
  {
   "cell_type": "code",
   "execution_count": 10,
   "id": "a73b2f2f-b0ff-447d-a625-eaa8bef9d6a8",
   "metadata": {},
   "outputs": [],
   "source": [
    "X = credit_card.drop('Class', axis = 1)\n",
    "Y = credit_card['Class']\n",
    "x_train,x_test,y_train,y_test = train_test_split(X,Y, test_size = 0.3, random_state = 42)"
   ]
  },
  {
   "cell_type": "code",
   "execution_count": 11,
   "id": "4cbfb23e-2ccb-498e-bccc-e94983cd6ac8",
   "metadata": {},
   "outputs": [
    {
     "name": "stdout",
     "output_type": "stream",
     "text": [
      "recall score: 0.6323529411764706\n"
     ]
    },
    {
     "data": {
      "image/png": "[encoded data removed]",
      "text/plain": [
       "<Figure size 432x288 with 2 Axes>"
      ]
     },
     "metadata": {
      "needs_background": "light"
     },
     "output_type": "display_data"
    }
   ],
   "source": [
    "lr = LogisticRegression(solver='lbfgs', max_iter=1000)\n",
    "lr.fit(x_train,y_train,)\n",
    "pred = lr.predict(x_test)\n",
    "#print(classification_report(y_test, pred))\n",
    "confu = confusion_matrix(y_test, pred)\n",
    "sns.heatmap(confu, annot = True, fmt = 'd')\n",
    "print('recall score:',recall_score(y_test, pred))"
   ]
  },
  {
   "cell_type": "code",
   "execution_count": 12,
   "id": "e5127124-2982-41cb-be22-4887aa526f69",
   "metadata": {},
   "outputs": [
    {
     "name": "stdout",
     "output_type": "stream",
     "text": [
      "Before undersampling the size of x_train was (199364, 30)\n",
      "After undersampling the size is (712, 30)\n",
      "Before undersamplign the size of y_train was (199364,)\n",
      "After undersamplign the size is (712,)\n",
      "After undersampling size of class 1 and class 0 are 356 & 356\n"
     ]
    }
   ],
   "source": [
    "## Near Miss Algorithm (Under Sampling)\n",
    "\n",
    "nm = NearMiss()\n",
    "x_nmtrain, y_nmtrain = nm.fit_resample(x_train,y_train)\n",
    "print('Before undersampling the size of x_train was {}'.format(x_train.shape))\n",
    "print('After undersampling the size is {}'.format(x_nmtrain.shape))\n",
    "print('Before undersamplign the size of y_train was {}'.format(y_train.shape))\n",
    "print('After undersamplign the size is {}'.format(y_nmtrain.shape))\n",
    "print('After undersampling size of class 1 and class 0 are {} & {}'.format(sum(y_nmtrain==1), sum(y_nmtrain ==0)))"
   ]
  },
  {
   "cell_type": "code",
   "execution_count": 13,
   "id": "87fcf0ff-acda-417e-b7aa-5f36e9017864",
   "metadata": {},
   "outputs": [
    {
     "name": "stdout",
     "output_type": "stream",
     "text": [
      "              precision    recall  f1-score   support\n",
      "\n",
      "           0       1.00      0.61      0.76     85307\n",
      "           1       0.00      0.94      0.01       136\n",
      "\n",
      "    accuracy                           0.61     85443\n",
      "   macro avg       0.50      0.78      0.38     85443\n",
      "weighted avg       1.00      0.61      0.76     85443\n",
      "\n",
      "recall score: 0.9411764705882353\n"
     ]
    },
    {
     "data": {
      "image/png": "[encoded data removed]",
      "text/plain": [
       "<Figure size 432x288 with 2 Axes>"
      ]
     },
     "metadata": {
      "needs_background": "light"
     },
     "output_type": "display_data"
    }
   ],
   "source": [
    "## Logistic regression nearmiss\n",
    "\n",
    "logre = LogisticRegression()\n",
    "logre.fit(x_nmtrain, y_nmtrain)\n",
    "logpred = logre.predict(x_test)\n",
    "print(classification_report(y_test, logpred))\n",
    "sns.heatmap(confusion_matrix(y_test, logpred), annot = True, fmt = 'd')\n",
    "print('recall score:',recall_score(y_test, logpred))"
   ]
  },
  {
   "cell_type": "code",
   "execution_count": 14,
   "id": "02bd6b34-23b4-44c0-a001-c792b3d65bd0",
   "metadata": {},
   "outputs": [
    {
     "name": "stdout",
     "output_type": "stream",
     "text": [
      "Epoch 1/5\n",
      "48/48 [==============================] - 1s 1ms/step - loss: 0.6871 - accuracy: 0.5463\n",
      "Epoch 2/5\n",
      "48/48 [==============================] - 0s 1ms/step - loss: 0.4647 - accuracy: 0.8006\n",
      "Epoch 3/5\n",
      "48/48 [==============================] - 0s 1ms/step - loss: 0.3581 - accuracy: 0.8778\n",
      "Epoch 4/5\n",
      "48/48 [==============================] - 0s 1ms/step - loss: 0.2949 - accuracy: 0.9031\n",
      "Epoch 5/5\n",
      "48/48 [==============================] - 0s 1ms/step - loss: 0.2364 - accuracy: 0.9298\n",
      "6231/6231 [==============================] - 6s 976us/step - loss: 0.7387 - accuracy: 0.6045\n",
      "2671/2671 [==============================] - 2s 697us/step\n",
      "              precision    recall  f1-score   support\n",
      "\n",
      "           0       1.00      0.61      0.76     85307\n",
      "           1       0.00      0.92      0.01       136\n",
      "\n",
      "    accuracy                           0.61     85443\n",
      "   macro avg       0.50      0.76      0.38     85443\n",
      "weighted avg       1.00      0.61      0.76     85443\n",
      "\n",
      "recall score: 0.9191176470588235\n"
     ]
    },
    {
     "data": {
      "image/png": "[encoded data removed]",
      "text/plain": [
       "<Figure size 432x288 with 2 Axes>"
      ]
     },
     "metadata": {
      "needs_background": "light"
     },
     "output_type": "display_data"
    }
   ],
   "source": [
    "model = Sequential([\n",
    "    # First layter\n",
    "    Dense(units = 17, input_dim = 30, activation = 'relu'),\n",
    "    #Second layer\n",
    "    Dense(units = 20, activation = 'relu'),\n",
    "    Dropout(0.5),\n",
    "    Dense(units = 20, activation = 'relu'),\n",
    "    Dense(units = 1, activation = 'sigmoid')\n",
    "])\n",
    "model.compile(optimizer = 'Adam' , loss = 'binary_crossentropy', metrics=['accuracy'])\n",
    "model.fit(x_nmtrain, y_nmtrain, batch_size = 15, epochs = 5)\n",
    "model.evaluate(x_train,y_train)\n",
    "dlpre = model.predict(x_test)\n",
    "print(classification_report(y_test, dlpre.round()))\n",
    "sns.heatmap(confusion_matrix(y_test, dlpre.round()), annot = True, fmt = 'd')\n",
    "print('recall score:',recall_score(y_test, dlpre.round()))"
   ]
  },
  {
   "cell_type": "code",
   "execution_count": 15,
   "id": "0183f1c4-c4b2-4893-b62a-98df5d27f187",
   "metadata": {
    "tags": []
   },
   "outputs": [
    {
     "name": "stdout",
     "output_type": "stream",
     "text": [
      "Before oversampling the size of x_train was (199364, 30)\n",
      "After oversampling the size is (398016, 30)\n",
      "Before oversampling the size of y_train was (199364,)\n",
      "After oversampling the size is (398016,)\n"
     ]
    }
   ],
   "source": [
    "sm = SMOTE()\n",
    "ostrain_x, ostrain_y = sm.fit_resample(x_train,y_train)\n",
    "print('Before oversampling the size of x_train was {}'.format(x_train.shape))\n",
    "print('After oversampling the size is {}'.format(ostrain_x.shape))\n",
    "print('Before oversampling the size of y_train was {}'.format(y_train.shape))\n",
    "print('After oversampling the size is {}'.format(ostrain_y.shape))"
   ]
  },
  {
   "cell_type": "code",
   "execution_count": 16,
   "id": "6ab10d8d-f673-4c2c-bdac-40a2f1ea1199",
   "metadata": {
    "tags": []
   },
   "outputs": [
    {
     "name": "stdout",
     "output_type": "stream",
     "text": [
      "              precision    recall  f1-score   support\n",
      "\n",
      "           0       1.00      0.97      0.99     85307\n",
      "           1       0.05      0.93      0.10       136\n",
      "\n",
      "    accuracy                           0.97     85443\n",
      "   macro avg       0.53      0.95      0.54     85443\n",
      "weighted avg       1.00      0.97      0.99     85443\n",
      "\n",
      "recall score: 0.9264705882352942\n"
     ]
    },
    {
     "data": {
      "image/png": "[encoded data removed]",
      "text/plain": [
       "<Figure size 432x288 with 2 Axes>"
      ]
     },
     "metadata": {
      "needs_background": "light"
     },
     "output_type": "display_data"
    }
   ],
   "source": [
    "## Logistic regression for SMOTE\n",
    "\n",
    "logre = LogisticRegression(solver='lbfgs', max_iter=1000)\n",
    "logre.fit(ostrain_x,ostrain_y)\n",
    "prediction = logre.predict(x_test)\n",
    "print(classification_report(y_test, prediction))\n",
    "conf = confusion_matrix(y_test, prediction)\n",
    "sns.heatmap(conf , annot = True, fmt = 'd')\n",
    "print('recall score:',recall_score(y_test, prediction))"
   ]
  },
  {
   "cell_type": "code",
   "execution_count": 17,
   "id": "e140637d-e9d0-478e-a64c-5331ce358969",
   "metadata": {},
   "outputs": [
    {
     "name": "stdout",
     "output_type": "stream",
     "text": [
      "              precision    recall  f1-score   support\n",
      "\n",
      "           0       1.00      1.00      1.00     85303\n",
      "           1       0.88      0.85      0.86       140\n",
      "\n",
      "    accuracy                           1.00     85443\n",
      "   macro avg       0.94      0.92      0.93     85443\n",
      "weighted avg       1.00      1.00      1.00     85443\n",
      "\n",
      "recall score: 0.875\n"
     ]
    },
    {
     "data": {
      "image/png": "[encoded data removed]",
      "text/plain": [
       "<Figure size 432x288 with 2 Axes>"
      ]
     },
     "metadata": {
      "needs_background": "light"
     },
     "output_type": "display_data"
    }
   ],
   "source": [
    "## random forest SMOTE\n",
    "\n",
    "rf = RandomForestClassifier()\n",
    "rf.fit(ostrain_x,ostrain_y)\n",
    "predict = rf.predict(x_test)\n",
    "print(classification_report(predict, y_test))\n",
    "sns.heatmap(confusion_matrix(y_test, predict), annot = True, fmt = 'd')\n",
    "print('recall score:',recall_score(y_test, predict))"
   ]
  },
  {
   "cell_type": "code",
   "execution_count": 18,
   "id": "0b64d985-0d30-4e7a-ae32-6646ea641e6f",
   "metadata": {},
   "outputs": [
    {
     "name": "stdout",
     "output_type": "stream",
     "text": [
      "              precision    recall  f1-score   support\n",
      "\n",
      "           0       1.00      1.00      1.00     85307\n",
      "           1       0.41      0.90      0.56       136\n",
      "\n",
      "    accuracy                           1.00     85443\n",
      "   macro avg       0.70      0.95      0.78     85443\n",
      "weighted avg       1.00      1.00      1.00     85443\n",
      "\n",
      "recall score: 0.8970588235294118\n"
     ]
    },
    {
     "data": {
      "image/png": "[encoded data removed]",
      "text/plain": [
       "<Figure size 432x288 with 2 Axes>"
      ]
     },
     "metadata": {
      "needs_background": "light"
     },
     "output_type": "display_data"
    }
   ],
   "source": [
    "##KNN SMOTE\n",
    "\n",
    "knn = KNeighborsClassifier()\n",
    "knn.fit(ostrain_x,ostrain_y)\n",
    "pdt = knn.predict(x_test)\n",
    "print(classification_report(y_test, pdt))\n",
    "sns.heatmap(confusion_matrix(y_test, pdt),annot = True, fmt = 'd')\n",
    "print('recall score:',recall_score(y_test, pdt))"
   ]
  },
  {
   "cell_type": "code",
   "execution_count": 19,
   "id": "e56fd543-150e-44ef-a110-e5a0145637b6",
   "metadata": {},
   "outputs": [
    {
     "name": "stdout",
     "output_type": "stream",
     "text": [
      "Epoch 1/5\n",
      "26535/26535 [==============================] - 33s 1ms/step - loss: 0.0464 - accuracy: 0.9831\n",
      "Epoch 2/5\n",
      "26535/26535 [==============================] - 34s 1ms/step - loss: 0.0166 - accuracy: 0.9952\n",
      "Epoch 3/5\n",
      "26535/26535 [==============================] - 34s 1ms/step - loss: 0.0123 - accuracy: 0.9966\n",
      "Epoch 4/5\n",
      "26535/26535 [==============================] - 34s 1ms/step - loss: 0.0105 - accuracy: 0.9972\n",
      "Epoch 5/5\n",
      "26535/26535 [==============================] - 34s 1ms/step - loss: 0.0085 - accuracy: 0.9977\n",
      "6231/6231 [==============================] - 6s 933us/step - loss: 0.0066 - accuracy: 0.9982\n",
      "2671/2671 [==============================] - 2s 866us/step\n",
      "              precision    recall  f1-score   support\n",
      "\n",
      "           0       1.00      1.00      1.00     85307\n",
      "           1       0.41      0.89      0.56       136\n",
      "\n",
      "    accuracy                           1.00     85443\n",
      "   macro avg       0.71      0.94      0.78     85443\n",
      "weighted avg       1.00      1.00      1.00     85443\n",
      "\n",
      "recall score: 0.8897058823529411\n"
     ]
    },
    {
     "data": {
      "image/png": "[encoded data removed]",
      "text/plain": [
       "<Figure size 432x288 with 2 Axes>"
      ]
     },
     "metadata": {
      "needs_background": "light"
     },
     "output_type": "display_data"
    }
   ],
   "source": [
    "## keras sequencial SMOTE\n",
    "\n",
    "model = Sequential([\n",
    "    # First layter\n",
    "    Dense(units = 17, input_dim = 30, activation = 'relu'),\n",
    "    #Second layer\n",
    "    Dense(units = 20, activation = 'relu'),\n",
    "    Dropout(0.5),\n",
    "    Dense(units = 20, activation = 'relu'),\n",
    "    Dense(units = 1, activation = 'sigmoid')\n",
    "])\n",
    "model.compile(optimizer = 'Adam' , loss = 'binary_crossentropy', metrics=['accuracy'])\n",
    "model.fit(ostrain_x,ostrain_y, batch_size = 15, epochs = 5)\n",
    "model.evaluate(x_train,y_train)\n",
    "dlpre = model.predict(x_test)\n",
    "print(classification_report(y_test, dlpre.round()))\n",
    "sns.heatmap(confusion_matrix(y_test, dlpre.round()), annot = True, fmt = 'd')\n",
    "print('recall score:',recall_score(y_test, dlpre.round()))"
   ]
  },
  {
   "cell_type": "code",
   "execution_count": 20,
   "id": "0519d904-d837-46c3-b208-b4747d85e50f",
   "metadata": {},
   "outputs": [
    {
     "name": "stdout",
     "output_type": "stream",
     "text": [
      "recall score: 0.8897058823529411\n"
     ]
    }
   ],
   "source": [
    "print('recall score:',recall_score(y_test, dlpre.round()))"
   ]
  },
  {
   "cell_type": "markdown",
   "id": "cb34db1e-74a8-4713-a43f-143ca08f2536",
   "metadata": {},
   "source": [
    "**So let's plot Precision Recall plot.**\n",
    "* But remember ROC Curves should be used when the data set has approximately equal class distribution.\n",
    "* Precision Recall Plot should be used when there is imbalanced data distribution, so let's plot precision , recall plot.\n"
   ]
  },
  {
   "cell_type": "code",
   "execution_count": 21,
   "id": "9b29604f-a044-495e-a2db-7dd4ba6c8487",
   "metadata": {},
   "outputs": [
    {
     "data": {
      "text/plain": [
       "Text(0, 0.5, 'Precision')"
      ]
     },
     "execution_count": 21,
     "metadata": {},
     "output_type": "execute_result"
    },
    {
     "data": {
      "image/png": "[encoded data removed]",
      "text/plain": [
       "<Figure size 720x648 with 1 Axes>"
      ]
     },
     "metadata": {
      "needs_background": "light"
     },
     "output_type": "display_data"
    }
   ],
   "source": [
    "from sklearn.metrics import precision_recall_curve\n",
    "plt.figure(figsize = (10,9))\n",
    "precis_log, recal_log,_ = precision_recall_curve(y_test, prediction)\n",
    "pre_ra, recal_ra, _ = precision_recall_curve(y_test,predict)\n",
    "pre_knn, recall_knn,_ = precision_recall_curve(y_test, pdt)\n",
    "plt.plot(recal_log, precis_log, label = 'logistic regression', marker = '.')\n",
    "plt.plot(recal_ra, pre_ra, label= 'Random Forest', marker = '.')\n",
    "plt.plot(recall_knn, pre_knn, label = 'KNN', marker = '.')\n",
    "plt.legend()\n",
    "plt.title('Precision Recall Curve')\n",
    "plt.xlabel('Recall')\n",
    "plt.ylabel('Precision')"
   ]
  },
  {
   "cell_type": "code",
   "execution_count": 22,
   "id": "696259a4-085f-4867-8653-4d961925f56e",
   "metadata": {},
   "outputs": [],
   "source": [
    "## 50/50 random undersampling\n",
    "\n",
    "fraud_cases = credit_card[credit_card['Class']==1]\n",
    "non_fraud = credit_card[credit_card['Class']==0].sample(len(fraud_cases))\n",
    "new_dataf = pd.concat([fraud_cases, non_fraud])\n",
    "x = new_dataf.drop(['Class'], axis =1)\n",
    "y = new_dataf['Class']"
   ]
  },
  {
   "cell_type": "code",
   "execution_count": 23,
   "id": "a1877da5-c647-44aa-932a-f1ac929ab41d",
   "metadata": {},
   "outputs": [],
   "source": [
    "## train test split\n",
    "\n",
    "train_x,test_x,train_y, test_y = train_test_split(x,y, test_size = 0.3, random_state = 42)"
   ]
  },
  {
   "cell_type": "code",
   "execution_count": 24,
   "id": "5cd22927-1b00-4aa0-ba3b-594e0e4a2006",
   "metadata": {},
   "outputs": [
    {
     "name": "stdout",
     "output_type": "stream",
     "text": [
      "              precision    recall  f1-score   support\n",
      "\n",
      "           0       0.91      0.98      0.94       146\n",
      "           1       0.98      0.90      0.94       150\n",
      "\n",
      "    accuracy                           0.94       296\n",
      "   macro avg       0.94      0.94      0.94       296\n",
      "weighted avg       0.94      0.94      0.94       296\n",
      "\n",
      "recall score: 0.9\n"
     ]
    },
    {
     "data": {
      "image/png": "[encoded data removed]",
      "text/plain": [
       "<Figure size 432x288 with 2 Axes>"
      ]
     },
     "metadata": {
      "needs_background": "light"
     },
     "output_type": "display_data"
    }
   ],
   "source": [
    "## Logistic regression for 50/50\n",
    "\n",
    "logre = LogisticRegression()\n",
    "logre.fit(train_x, train_y)\n",
    "prediction = logre.predict(test_x)\n",
    "print(classification_report(test_y, prediction))\n",
    "conf = confusion_matrix(test_y, prediction)\n",
    "sns.heatmap(conf , annot = True, fmt = 'd')\n",
    "print('recall score:',recall_score(test_y, prediction))"
   ]
  },
  {
   "cell_type": "code",
   "execution_count": 25,
   "id": "c70e66b4-aeae-4ac2-86f3-af00b9b2bcd4",
   "metadata": {},
   "outputs": [
    {
     "name": "stdout",
     "output_type": "stream",
     "text": [
      "              precision    recall  f1-score   support\n",
      "\n",
      "           0       0.91      0.98      0.94       146\n",
      "           1       0.98      0.90      0.94       150\n",
      "\n",
      "    accuracy                           0.94       296\n",
      "   macro avg       0.94      0.94      0.94       296\n",
      "weighted avg       0.94      0.94      0.94       296\n",
      "\n",
      "recall score: 0.9\n"
     ]
    },
    {
     "data": {
      "image/png": "[encoded data removed]",
      "text/plain": [
       "<Figure size 432x288 with 2 Axes>"
      ]
     },
     "metadata": {
      "needs_background": "light"
     },
     "output_type": "display_data"
    }
   ],
   "source": [
    "smo = SMOTE(random_state = 42)\n",
    "trainsmo_x, trainsmo_y = smo.fit_resample(train_x, train_y)\n",
    "logreg = LogisticRegression()\n",
    "logreg.fit(trainsmo_x, trainsmo_y)\n",
    "new_predic = logreg.predict(test_x)\n",
    "print(classification_report(test_y, new_predic))\n",
    "sns.heatmap(confusion_matrix(test_y, new_predic),annot = True, fmt = 'd')\n",
    "print('recall score:',recall_score(test_y, new_predic))"
   ]
  },
  {
   "cell_type": "code",
   "execution_count": 26,
   "id": "70a78596-4453-4f34-bc21-8ea4676e8411",
   "metadata": {},
   "outputs": [
    {
     "name": "stdout",
     "output_type": "stream",
     "text": [
      "              precision    recall  f1-score   support\n",
      "\n",
      "           0       1.00      0.98      0.99     85307\n",
      "           1       0.07      0.93      0.14       136\n",
      "\n",
      "    accuracy                           0.98     85443\n",
      "   macro avg       0.54      0.96      0.56     85443\n",
      "weighted avg       1.00      0.98      0.99     85443\n",
      "\n"
     ]
    }
   ],
   "source": [
    "new_predic_test = logreg.predict(x_test)\n",
    "print(classification_report(y_test, new_predic_test))"
   ]
  },
  {
   "cell_type": "code",
   "execution_count": 27,
   "id": "cbfc40ca-0bc7-4b8c-b699-fa97b7956d18",
   "metadata": {},
   "outputs": [
    {
     "name": "stdout",
     "output_type": "stream",
     "text": [
      "              precision    recall  f1-score   support\n",
      "\n",
      "           0       0.98      0.91      0.94       158\n",
      "           1       0.90      0.98      0.94       138\n",
      "\n",
      "    accuracy                           0.94       296\n",
      "   macro avg       0.94      0.94      0.94       296\n",
      "weighted avg       0.94      0.94      0.94       296\n",
      "\n",
      "recall score: 0.9\n"
     ]
    },
    {
     "data": {
      "image/png": "[encoded data removed]",
      "text/plain": [
       "<Figure size 432x288 with 2 Axes>"
      ]
     },
     "metadata": {
      "needs_background": "light"
     },
     "output_type": "display_data"
    }
   ],
   "source": [
    "## random forest 50/50\n",
    "\n",
    "rf = RandomForestClassifier()\n",
    "rf.fit(train_x, train_y)\n",
    "predict = rf.predict(test_x)\n",
    "print(classification_report(predict, test_y))\n",
    "sns.heatmap(confusion_matrix(test_y, predict), annot = True, fmt = 'd')\n",
    "print('recall score:',recall_score(test_y, predict))"
   ]
  },
  {
   "cell_type": "code",
   "execution_count": 28,
   "id": "c52901bb-8b24-4970-bc3f-ff7c0640a48b",
   "metadata": {},
   "outputs": [
    {
     "name": "stdout",
     "output_type": "stream",
     "text": [
      "              precision    recall  f1-score   support\n",
      "\n",
      "           0       0.88      0.97      0.93       146\n",
      "           1       0.97      0.87      0.92       150\n",
      "\n",
      "    accuracy                           0.92       296\n",
      "   macro avg       0.93      0.92      0.92       296\n",
      "weighted avg       0.93      0.92      0.92       296\n",
      "\n",
      "recall score: 0.8733333333333333\n"
     ]
    },
    {
     "data": {
      "image/png": "[encoded data removed]",
      "text/plain": [
       "<Figure size 432x288 with 2 Axes>"
      ]
     },
     "metadata": {
      "needs_background": "light"
     },
     "output_type": "display_data"
    }
   ],
   "source": [
    "##KNN 50/50\n",
    "\n",
    "knn = KNeighborsClassifier()\n",
    "knn.fit(train_x, train_y)\n",
    "pdt = knn.predict(test_x)\n",
    "print(classification_report(test_y, pdt))\n",
    "sns.heatmap(confusion_matrix(test_y, pdt),annot = True, fmt = 'd')\n",
    "print('recall score:',recall_score(test_y, pdt))"
   ]
  },
  {
   "cell_type": "code",
   "execution_count": 29,
   "id": "7b3c9fdf-73ae-4834-a6ad-8fb40cea3779",
   "metadata": {},
   "outputs": [],
   "source": [
    "## keras sequencial 50/50\n",
    "\n",
    "model = Sequential([\n",
    "    # First layter\n",
    "    Dense(units = 17, input_dim = 30, activation = 'relu'),\n",
    "    #Second layer\n",
    "    Dense(units = 20, activation = 'relu'),\n",
    "    Dropout(0.5),\n",
    "    Dense(units = 20, activation = 'relu'),\n",
    "    Dense(units = 1, activation = 'sigmoid')\n",
    "])\n",
    "model.compile(optimizer = 'Adam' , loss = 'binary_crossentropy', metrics=['accuracy'])"
   ]
  },
  {
   "cell_type": "code",
   "execution_count": 30,
   "id": "9425d390-e222-4993-abdb-8672d552d1e4",
   "metadata": {},
   "outputs": [
    {
     "name": "stdout",
     "output_type": "stream",
     "text": [
      "Epoch 1/5\n",
      "46/46 [==============================] - 1s 1ms/step - loss: 0.5723 - accuracy: 0.6424\n",
      "Epoch 2/5\n",
      "46/46 [==============================] - 0s 1ms/step - loss: 0.4298 - accuracy: 0.8096\n",
      "Epoch 3/5\n",
      "46/46 [==============================] - 0s 1ms/step - loss: 0.3652 - accuracy: 0.8634\n",
      "Epoch 4/5\n",
      "46/46 [==============================] - 0s 1ms/step - loss: 0.3028 - accuracy: 0.8953\n",
      "Epoch 5/5\n",
      "46/46 [==============================] - 0s 1ms/step - loss: 0.2840 - accuracy: 0.9070\n"
     ]
    },
    {
     "data": {
      "text/plain": [
       "<keras.callbacks.History at 0x11a9194d090>"
      ]
     },
     "execution_count": 30,
     "metadata": {},
     "output_type": "execute_result"
    }
   ],
   "source": [
    "model.fit(train_x, train_y, batch_size = 15, epochs = 5)"
   ]
  },
  {
   "cell_type": "code",
   "execution_count": 31,
   "id": "341747e3-199e-4dec-a944-f78241321111",
   "metadata": {},
   "outputs": [
    {
     "name": "stdout",
     "output_type": "stream",
     "text": [
      "22/22 [==============================] - 0s 1ms/step - loss: 0.2287 - accuracy: 0.9142\n",
      "10/10 [==============================] - 0s 955us/step\n",
      "              precision    recall  f1-score   support\n",
      "\n",
      "           0       0.84      1.00      0.91       146\n",
      "           1       1.00      0.81      0.90       150\n",
      "\n",
      "    accuracy                           0.91       296\n",
      "   macro avg       0.92      0.91      0.90       296\n",
      "weighted avg       0.92      0.91      0.90       296\n",
      "\n",
      "recall score: 0.8133333333333334\n"
     ]
    },
    {
     "data": {
      "image/png": "[encoded data removed]",
      "text/plain": [
       "<Figure size 432x288 with 2 Axes>"
      ]
     },
     "metadata": {
      "needs_background": "light"
     },
     "output_type": "display_data"
    }
   ],
   "source": [
    "model.evaluate(train_x, train_y)\n",
    "dlpre = model.predict(test_x)\n",
    "print(classification_report(test_y, dlpre.round()))\n",
    "sns.heatmap(confusion_matrix(test_y, dlpre.round()), annot = True, fmt = 'd')\n",
    "print('recall score:',recall_score(test_y, dlpre.round()))"
   ]
  },
  {
   "cell_type": "code",
   "execution_count": 32,
   "id": "9f76ca04-fce8-40f8-ba8f-d73e9e502fc5",
   "metadata": {},
   "outputs": [
    {
     "name": "stdout",
     "output_type": "stream",
     "text": [
      "              precision    recall  f1-score   support\n",
      "\n",
      "           0       1.00      1.00      1.00     85307\n",
      "           1       0.74      0.88      0.80       136\n",
      "\n",
      "    accuracy                           1.00     85443\n",
      "   macro avg       0.87      0.94      0.90     85443\n",
      "weighted avg       1.00      1.00      1.00     85443\n",
      "\n",
      "recall score: 0.8823529411764706\n"
     ]
    },
    {
     "data": {
      "image/png": "[encoded data removed]",
      "text/plain": [
       "<Figure size 432x288 with 2 Axes>"
      ]
     },
     "metadata": {
      "needs_background": "light"
     },
     "output_type": "display_data"
    }
   ],
   "source": [
    "from xgboost import XGBClassifier\n",
    "xgb_model = XGBClassifier()\n",
    "xgb_model.fit(ostrain_x,ostrain_y)\n",
    "xgbpre = xgb_model.predict(x_test)\n",
    "print(classification_report(y_test, xgbpre))\n",
    "sns.heatmap(confusion_matrix(y_test, xgbpre), annot = True, fmt = 'd')\n",
    "print('recall score:',recall_score(y_test, xgbpre))"
   ]
  },
  {
   "cell_type": "code",
   "execution_count": 33,
   "id": "1450a300-8865-4a44-8820-0cb971b061b5",
   "metadata": {},
   "outputs": [
    {
     "name": "stdout",
     "output_type": "stream",
     "text": [
      "              precision    recall  f1-score   support\n",
      "\n",
      "           0       0.91      0.98      0.94       146\n",
      "           1       0.98      0.90      0.94       150\n",
      "\n",
      "    accuracy                           0.94       296\n",
      "   macro avg       0.94      0.94      0.94       296\n",
      "weighted avg       0.94      0.94      0.94       296\n",
      "\n",
      "recall score: 0.9\n"
     ]
    },
    {
     "data": {
      "image/png": "[encoded data removed]",
      "text/plain": [
       "<Figure size 432x288 with 2 Axes>"
      ]
     },
     "metadata": {
      "needs_background": "light"
     },
     "output_type": "display_data"
    }
   ],
   "source": [
    "log_sm_pre = logreg.predict(test_x)\n",
    "print(classification_report(test_y, log_sm_pre))\n",
    "sns.heatmap(confusion_matrix(test_y, log_sm_pre), annot = True, fmt = 'd')\n",
    "print('recall score:',recall_score(test_y, log_sm_pre))"
   ]
  },
  {
   "cell_type": "code",
   "execution_count": 34,
   "id": "6c3b1fbc-d09e-4d73-bd8b-3a6c6da05d25",
   "metadata": {},
   "outputs": [
    {
     "name": "stdout",
     "output_type": "stream",
     "text": [
      "Epoch 1/5\n",
      "48/48 [==============================] - 0s 912us/step - loss: 0.2726 - accuracy: 0.9003\n",
      "Epoch 2/5\n",
      "48/48 [==============================] - 0s 873us/step - loss: 0.2441 - accuracy: 0.9143\n",
      "Epoch 3/5\n",
      "48/48 [==============================] - 0s 862us/step - loss: 0.2053 - accuracy: 0.9298\n",
      "Epoch 4/5\n",
      "48/48 [==============================] - 0s 857us/step - loss: 0.2038 - accuracy: 0.9242\n",
      "Epoch 5/5\n",
      "48/48 [==============================] - 0s 857us/step - loss: 0.1766 - accuracy: 0.9368\n",
      "10/10 [==============================] - 0s 709us/step\n",
      "              precision    recall  f1-score   support\n",
      "\n",
      "           0       0.89      0.88      0.89       146\n",
      "           1       0.89      0.89      0.89       150\n",
      "\n",
      "    accuracy                           0.89       296\n",
      "   macro avg       0.89      0.89      0.89       296\n",
      "weighted avg       0.89      0.89      0.89       296\n",
      "\n"
     ]
    },
    {
     "data": {
      "text/plain": [
       "<AxesSubplot:>"
      ]
     },
     "execution_count": 34,
     "metadata": {},
     "output_type": "execute_result"
    },
    {
     "data": {
      "image/png": "[encoded data removed]",
      "text/plain": [
       "<Figure size 432x288 with 2 Axes>"
      ]
     },
     "metadata": {
      "needs_background": "light"
     },
     "output_type": "display_data"
    }
   ],
   "source": [
    "model.compile(optimizer = 'Adam', loss = 'binary_crossentropy', metrics = (['accuracy']))\n",
    "model.fit(x_nmtrain, y_nmtrain, batch_size = 15, epochs = 5)\n",
    "fin_pred = model.predict(test_x)\n",
    "print(classification_report(test_y, fin_pred.round()))\n",
    "sns.heatmap(confusion_matrix(test_y, fin_pred.round()), annot = True, fmt = 'd')"
   ]
  },
  {
   "cell_type": "code",
   "execution_count": null,
   "id": "47203e3e-def5-44e8-affd-993e7b99e20a",
   "metadata": {},
   "outputs": [],
   "source": []
  }
 ],
 "metadata": {
  "kernelspec": {
   "display_name": "Python 3 (ipykernel)",
   "language": "python",
   "name": "python3"
  },
  "language_info": {
   "codemirror_mode": {
    "name": "ipython",
    "version": 3
   },
   "file_extension": ".py",
   "mimetype": "text/x-python",
   "name": "python",
   "nbconvert_exporter": "python",
   "pygments_lexer": "ipython3",
   "version": "3.10.5"
  }
 },
 "nbformat": 4,
 "nbformat_minor": 5
}
